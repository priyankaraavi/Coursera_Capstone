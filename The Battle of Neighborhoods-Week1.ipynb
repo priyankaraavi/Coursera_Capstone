{
 "cells": [
  {
   "cell_type": "markdown",
   "metadata": {
    "collapsed": true
   },
   "source": [
    "# Introduction"
   ]
  },
  {
   "cell_type": "markdown",
   "metadata": {},
   "source": [
    "### A bookstore is a place where different kinds of textbooks or reference books are sold. It is a very important place for all educated persons. Most of the customers of the bookstore are book lovers of all ages. It is mostly familiar to the students. In a bookstore, there are different shelves which are nicely arranged. From a book shop, we can buy our textbooks, story books, novels, dictionaries, science fiction books etc. In fact, a bookstore always plays an important role for the readers and mostly the students. There are many bookstores in the city of New York. Serious considerations are required to open a new bookstore than it seems. So the location of the bookstore is one of the most important decisions that will determine whether the bookstore will be a successful investment or failure."
   ]
  },
  {
   "cell_type": "markdown",
   "metadata": {},
   "source": [
    "# Bussiness Perspective"
   ]
  },
  {
   "cell_type": "markdown",
   "metadata": {},
   "source": [
    "### The aim of this project is to assist investor who wants to open a new bookstore in new york. data science methodology and machine learning techniques like clustering are used. The provided solution gives answer to the question: If an investor wants to open a new bookstore, what would be the best place that you recommend to open?"
   ]
  },
  {
   "cell_type": "markdown",
   "metadata": {},
   "source": [
    "# Data"
   ]
  },
  {
   "cell_type": "markdown",
   "metadata": {},
   "source": [
    "### To procced with this project we will need the following data\n",
    "\n",
    "1. List of neighborhoods in New York.\n",
    "2. Latitude and longitude coordinates of those neighborhoods\n",
    "3. Venue data specially bookstores are used to perform clustering\n",
    "### New York has a total of 5 boroughs and 306 neighborhoods. In order to segement the neighborhoods and explore them, we will essentially need a dataset that contains the 5 boroughs and the neighborhoods that exist in each borough as well as the the latitude and logitude coordinates of each neighborhood which can be obtained for free from: https://geo.nyu.edu/catalog/nyu_2451_34572"
   ]
  },
  {
   "cell_type": "code",
   "execution_count": null,
   "metadata": {},
   "outputs": [],
   "source": []
  }
 ],
 "metadata": {
  "kernelspec": {
   "display_name": "Python 3.6",
   "language": "python",
   "name": "python3"
  },
  "language_info": {
   "codemirror_mode": {
    "name": "ipython",
    "version": 3
   },
   "file_extension": ".py",
   "mimetype": "text/x-python",
   "name": "python",
   "nbconvert_exporter": "python",
   "pygments_lexer": "ipython3",
   "version": "3.6.9"
  }
 },
 "nbformat": 4,
 "nbformat_minor": 1
}
