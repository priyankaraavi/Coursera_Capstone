{
 "cells": [
  {
   "cell_type": "markdown",
   "metadata": {
    "colab_type": "text",
    "id": "-cJeDwMnlYYE"
   },
   "source": [
    "# Introduction"
   ]
  },
  {
   "cell_type": "markdown",
   "metadata": {
    "colab_type": "text",
    "id": "A1eE7rJUlbK8"
   },
   "source": [
    "A bookstore is a place where different kinds of textbooks or reference books are\n",
    "sold. It is a very important place for all educated persons. Most of the customers of\n",
    "the bookstore are book lovers of all ages. It is mostly familiar to the students. In a\n",
    "bookstore, there are different shelves which are nicely arranged. From a book shop,\n",
    "we can buy our textbooks, story books, novels, dictionaries, science fiction books\n",
    "etc. In fact, a bookstore always plays an important role for the readers and mostly\n",
    "the students. There are many bookstores in the city of New York. Serious\n",
    "considerations are required to open a new bookstore than it seems. So the location\n",
    "of the bookstore is one of the most important decisions that will determine whether the bookstore will be a successful investment or failure."
   ]
  },
  {
   "cell_type": "markdown",
   "metadata": {
    "colab_type": "text",
    "id": "PpfTTKFNlxFt"
   },
   "source": [
    "##  Business prespective "
   ]
  },
  {
   "cell_type": "markdown",
   "metadata": {
    "colab_type": "text",
    "id": "dY61-uAXl3WQ"
   },
   "source": [
    "The aim of this project is to assist investor who wants to open a new bookstore in new york. data science methodology and\n",
    "machine learning techniques like clustering are used. The provided solution gives answer to the question: If an investor wants to open a new bookstore, what would be the best place that you recommend to open?"
   ]
  },
  {
   "cell_type": "markdown",
   "metadata": {
    "colab_type": "text",
    "id": "QBwll1hKmIL-"
   },
   "source": [
    "# Data"
   ]
  },
  {
   "cell_type": "markdown",
   "metadata": {
    "colab_type": "text",
    "id": "OnO8mbWmmLOW"
   },
   "source": [
    "To procced with this project we will need the following data \n",
    "\n",
    "\n",
    "*   List of neighborhoods in New York.\n",
    "*   Latitude and longitude coordinates of those neighborhoods\n",
    "*   Venue data specially bookstores are used to perform clustering\n",
    "\n",
    "New York  has a total of 5 boroughs and 306 neighborhoods. In order to segement the neighborhoods and explore them, we will essentially need a dataset that contains the 5 boroughs and the neighborhoods that exist in each borough as well as the the latitude and logitude coordinates of each neighborhood which can be obtained for free from: https://geo.nyu.edu/catalog/nyu_2451_34572\n",
    "\n",
    "\n",
    "\n"
   ]
  },
  {
   "cell_type": "markdown",
   "metadata": {
    "colab_type": "text",
    "id": "6KtmielhIlN4"
   },
   "source": [
    "![alt text](https://melashri.net/Notebooks/uploads/1.png)"
   ]
  },
  {
   "cell_type": "markdown",
   "metadata": {
    "colab_type": "text",
    "id": "mKxfXcgjNCge"
   },
   "source": [
    "![alt text](https://melashri.net/Notebooks/uploads/2.png)"
   ]
  },
  {
   "cell_type": "markdown",
   "metadata": {
    "colab_type": "text",
    "id": "ZEeKCi2ANPZD"
   },
   "source": [
    "We can see that brooklyen area have about 70 neighborhoods and queens about 81 is the largest in the city. while brooklyn is the most famous area. \n",
    "we can see this on the map as follows \n",
    "\n",
    "![alt text](https://melashri.net/Notebooks/uploads/3.png)"
   ]
  },
  {
   "cell_type": "markdown",
   "metadata": {
    "colab_type": "text",
    "id": "V7DOClCkPAzC"
   },
   "source": [
    "# Methodology"
   ]
  },
  {
   "cell_type": "markdown",
   "metadata": {
    "colab_type": "text",
    "id": "eynJ-bqmPDXY"
   },
   "source": [
    "for this project, we are going to follow th course methodology which is explained in week 3 and we follow it during assignment 3. "
   ]
  },
  {
   "cell_type": "markdown",
   "metadata": {
    "colab_type": "text",
    "id": "E6qKd__rPZ9g"
   },
   "source": [
    "first we need to convert the address to their  their equivalent latitude and longitude values using Foursquare API. then we explore the brooklyn neighborhoods and then we get bookstores from each neighborhood. "
   ]
  },
  {
   "cell_type": "markdown",
   "metadata": {
    "colab_type": "text",
    "id": "lbAAP7OjP0A3"
   },
   "source": [
    "Now we presenting brooklyn area with the bookstores\n",
    "\n",
    "![alt text](https://melashri.net/Notebooks/uploads/4.png)\n",
    "\n"
   ]
  },
  {
   "cell_type": "markdown",
   "metadata": {
    "colab_type": "text",
    "id": "RRsawQRmRO7s"
   },
   "source": [
    "\n",
    "\n",
    "and this is the locations on the map \n",
    "\n",
    "![alt text](https://melashri.net/Notebooks/uploads/5.png)\n"
   ]
  },
  {
   "cell_type": "markdown",
   "metadata": {
    "colab_type": "text",
    "id": "iALlUOkDSDRY"
   },
   "source": [
    "Then use this feature to group the neighborhoods into clusters K-means clustering\n",
    "algorithm will be use to complete this task. And also, the Folium library to visualize the\n",
    "neighborhoods in Brooklyn and its emerging clusters\n",
    "\n",
    "![alt text](https://melashri.net/Notebooks/uploads/6.png)"
   ]
  },
  {
   "cell_type": "markdown",
   "metadata": {
    "colab_type": "text",
    "id": "X5GsR6DUSG3j"
   },
   "source": [
    "with clusters on the map like this \n",
    "\n",
    "![alt text](https://melashri.net/Notebooks/uploads/7.png)"
   ]
  },
  {
   "cell_type": "markdown",
   "metadata": {
    "colab_type": "text",
    "id": "VXfcYFNbSlNN"
   },
   "source": [
    "# Results"
   ]
  },
  {
   "cell_type": "markdown",
   "metadata": {
    "colab_type": "text",
    "id": "oBLlgVVdSnZc"
   },
   "source": [
    "This is results of clustring using KMeans Method \n"
   ]
  },
  {
   "cell_type": "markdown",
   "metadata": {
    "colab_type": "text",
    "id": "ArVdA4GhXqCY"
   },
   "source": [
    "\n",
    "\n",
    "### Cluster 1\n",
    "\n",
    "![alt text](https://melashri.net/Notebooks/uploads/8.png)"
   ]
  },
  {
   "cell_type": "markdown",
   "metadata": {
    "colab_type": "text",
    "id": "TVxUaavOYJGI"
   },
   "source": [
    "### Cluster 2\n",
    "\n",
    "![alt text](https://melashri.net/Notebooks/uploads/9.png)"
   ]
  },
  {
   "cell_type": "markdown",
   "metadata": {
    "colab_type": "text",
    "id": "BGO9KcA-YLEh"
   },
   "source": [
    "### Cluster 3\n",
    "\n",
    "![alt text](https://melashri.net/Notebooks/uploads/10.png)"
   ]
  },
  {
   "cell_type": "markdown",
   "metadata": {
    "colab_type": "text",
    "id": "tMugl1fzYlS_"
   },
   "source": [
    "### Cluster 4\n",
    "\n",
    "![alt text](https://melashri.net/Notebooks/uploads/11.png)"
   ]
  },
  {
   "cell_type": "markdown",
   "metadata": {
    "colab_type": "text",
    "id": "n1mrhHkQZCSC"
   },
   "source": [
    "### Cluster 5\n",
    "\n",
    "![alt text](https://melashri.net/Notebooks/uploads/12.png)"
   ]
  },
  {
   "cell_type": "markdown",
   "metadata": {
    "colab_type": "text",
    "id": "PqdpdL-6e5XT"
   },
   "source": [
    "# Discussion "
   ]
  },
  {
   "cell_type": "markdown",
   "metadata": {
    "colab_type": "text",
    "id": "PBIruruRe8UA"
   },
   "source": [
    "From our cluster analysis , and if we assume that our data are accurace then we can colculade that cluster 1 and cluster 3 areas are the best choices to a new bookstore business. We would recommend **Red Hook** and **Marine Park** Neighborhoods as a potential place for the new bookstore. "
   ]
  },
  {
   "cell_type": "markdown",
   "metadata": {
    "colab_type": "text",
    "id": "A8ew7i-5fqBD"
   },
   "source": [
    "Although this is the case, we need to be carful and take into consideration the frollowing points. \n",
    "\n",
    "\n",
    "\n",
    "*   This analysis is performed on limited data\n",
    "*   Marine Park is one of the good locations to open an bookstores that focus on new textbook than used books. \n",
    "*  Prospect Heights, Park Slope\t and Madison are also good places to be considered to open the new bookstore. \n",
    "* further and more detailed study on full dataset of New York is needed to have more accurate and in hepth analysis will be reguired to have a final decision that might include budget and location mortage prices. \n",
    "\n",
    "Finally, we would like to suggest using FourSquare as geographical data source as it proves that it is very helpful and easy in terms of analysis. \n",
    "\n"
   ]
  },
  {
   "cell_type": "markdown",
   "metadata": {
    "colab_type": "text",
    "id": "rYPi1g_ig8eH"
   },
   "source": [
    "# Conclusion"
   ]
  },
  {
   "cell_type": "markdown",
   "metadata": {
    "colab_type": "text",
    "id": "NIYeY1sxg-tK"
   },
   "source": [
    "Although all of the goals of this project were met there is definitely room for further\n",
    "improvement and development as noted below. However, the goals of the project were met\n",
    "and, with some more work, could easily be developed into a fully-fledged application that\n",
    "could support the opening a business idea in an unknown location.\n",
    "As per the neighborhood or Bookstore type mentioned like used bookstore analysis can be checked. A venue with lowest risk and competition can be identified"
   ]
  }
 ],
 "metadata": {
  "colab": {
   "authorship_tag": "ABX9TyPX1zD1fMUxTsrD3ZdqEQW3",
   "collapsed_sections": [],
   "include_colab_link": true,
   "name": "Report.ipynb",
   "provenance": []
  },
  "kernelspec": {
   "display_name": "Python 3.6",
   "language": "python",
   "name": "python3"
  },
  "language_info": {
   "codemirror_mode": {
    "name": "ipython",
    "version": 3
   },
   "file_extension": ".py",
   "mimetype": "text/x-python",
   "name": "python",
   "nbconvert_exporter": "python",
   "pygments_lexer": "ipython3",
   "version": "3.6.9"
  }
 },
 "nbformat": 4,
 "nbformat_minor": 1
}
